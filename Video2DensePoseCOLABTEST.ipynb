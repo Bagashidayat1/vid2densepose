{
  "nbformat": 4,
  "nbformat_minor": 0,
  "metadata": {
    "colab": {
      "provenance": [],
      "gpuType": "T4"
    },
    "kernelspec": {
      "name": "python3",
      "display_name": "Python 3"
    },
    "language_info": {
      "name": "python"
    },
    "accelerator": "GPU"
  },
  "cells": [
    {
      "cell_type": "code",
      "source": [
        "#@title Installing Dependencies and Run Gradio\n",
        "from IPython.display import clear_output, Javascript\n",
        "\n",
        "!git clone https://github.com/Flode-Labs/vid2densepose.git\n",
        "%cd /content/vid2densepose\n",
        "!pip install --no-cache-dir -r requirements.txt gradio -q\n",
        "!git clone https://github.com/facebookresearch/detectron2.git\n",
        "clear_output()\n",
        "print(\"COMPLETED DOWNLOADING!\")\n",
        "\n",
        "#Run Gradio\n",
        "\n",
        "!sed -i 's/iface.launch()/iface.launch(share=True)/' app.py\n",
        "!python3 app.py --share"
      ],
      "metadata": {
        "colab": {
          "base_uri": "https://localhost:8080/"
        },
        "id": "fU81IwNy2aRD",
        "outputId": "141e817d-a88a-48ff-c2c6-9d2bb7f1fe11",
        "cellView": "form"
      },
      "execution_count": null,
      "outputs": [
        {
          "output_type": "stream",
          "name": "stdout",
          "text": [
            "COMPLETED DOWNLOADING!\n",
            "Running on local URL:  http://127.0.0.1:7860\n",
            "Running on public URL: https://d5119724a0dea21df7.gradio.live\n",
            "\n",
            "This share link expires in 72 hours. For free permanent hosting and GPU upgrades, run `gradio deploy` from Terminal to deploy to Spaces (https://huggingface.co/spaces)\n",
            "model_final_162be9.pkl: 256MB [00:01, 152MB/s]               \n",
            "/usr/local/lib/python3.10/dist-packages/torch/functional.py:504: UserWarning: torch.meshgrid: in an upcoming release, it will be required to pass the indexing argument. (Triggered internally at ../aten/src/ATen/native/TensorShape.cpp:3526.)\n",
            "  return _VF.meshgrid(tensors, **kwargs)  # type: ignore[attr-defined]\n",
            "/usr/local/lib/python3.10/dist-packages/gradio/components/video.py:274: UserWarning: Video does not have browser-compatible container or codec. Converting to mp4\n",
            "  warnings.warn(\n",
            "/usr/local/lib/python3.10/dist-packages/gradio/components/video.py:274: UserWarning: Video does not have browser-compatible container or codec. Converting to mp4\n",
            "  warnings.warn(\n"
          ]
        }
      ]
    }
  ]
}